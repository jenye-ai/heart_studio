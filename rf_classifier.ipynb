{
 "cells": [
  {
   "cell_type": "markdown",
   "metadata": {},
   "source": [
    "# Random Forest Classifier of Heartbeats\n",
    "\n",
    "- Heartbeat Sounds Source: https://www.kaggle.com/kinguistics/heartbeat-sounds/data?select=set_a_timing.csv\n",
    "- Script takes in .wav files, extracts features of sound files into tabular data\n",
    "- Tabular data is used to train the random forest classifier\n",
    "- Best Metrics:\n",
    "- To Do: Include more Features in pre-processing"
   ]
  },
  {
   "cell_type": "markdown",
   "metadata": {},
   "source": [
    "### Data Pre-processing"
   ]
  },
  {
   "cell_type": "code",
   "execution_count": 2,
   "metadata": {},
   "outputs": [],
   "source": [
    "import numpy as np \n",
    "import pandas as pd \n",
    "import os,fnmatch\n",
    "import scipy\n",
    "import librosa\n",
    "import IPython.display as ipd"
   ]
  },
  {
   "cell_type": "code",
   "execution_count": 3,
   "metadata": {},
   "outputs": [],
   "source": [
    "def heart_df(set_files,col_names,d_list): #Creates tabular data of sound file features for each sound file\n",
    "    output =[]\n",
    "    count =0\n",
    "    for folder in set_files:\n",
    "        for d in d_list: #list of outcomes\n",
    "            values= fnmatch.filter(os.listdir(folder),d)\n",
    "            label= d.split(\"*\")[0]\n",
    "            \n",
    "            for value in values: #calculating and appending sound file features from librosa\n",
    "                x,sr=librosa.load(str(folder +'\\\\'+ value),duration=5,res_type='kaiser_fast')\n",
    "                output.append([np.mean(x) for x in librosa.feature.mfcc(x,sr=sr)])\n",
    "                output[count].append(sum(librosa.zero_crossings(x)))\n",
    "                output[count].append(np.mean(librosa.feature.spectral_centroid(x)))\n",
    "                output[count].append(np.mean(librosa.feature.spectral_rolloff(x,sr=sr)))\n",
    "                output[count].append(np.mean(librosa.feature.chroma_stft(x,sr=sr)))\n",
    "                output[count].append(label)\n",
    "                output[count].append(value)\n",
    "                count+=1\n",
    "    return pd.DataFrame(output,columns=col_names)"
   ]
  },
  {
   "cell_type": "code",
   "execution_count": 4,
   "metadata": {},
   "outputs": [
    {
     "name": "stderr",
     "output_type": "stream",
     "text": [
      "e:\\bme2b\\bme261\\heart_class\\heart\\lib\\site-packages\\librosa\\core\\pitch.py:146: UserWarning: Trying to estimate tuning from empty frequency set.\n",
      "  warnings.warn('Trying to estimate tuning from empty frequency set.')\n"
     ]
    }
   ],
   "source": [
    "music_folders=[\"set_a\",\"set_b\"]\n",
    "\n",
    "col_names =[\"mfkk\"+str(i) for i in range(20)]\n",
    "for i in [\"zero\",\"centroid\",\"rolloff\",\"chroma\",\"outcome\",\"file\"]:\n",
    "    col_names.append(i)\n",
    "    \n",
    "outcomes=[\"normal*.wav\",\"artifact*.wav\",\"murmur*.wav\"] \n",
    "\n",
    "feature_df= heart_df(music_folders,col_names,outcomes)"
   ]
  },
  {
   "cell_type": "code",
   "execution_count": 5,
   "metadata": {},
   "outputs": [
    {
     "name": "stdout",
     "output_type": "stream",
     "text": [
      "(520, 26)\n"
     ]
    },
    {
     "data": {
      "text/html": [
       "<div>\n",
       "<style scoped>\n",
       "    .dataframe tbody tr th:only-of-type {\n",
       "        vertical-align: middle;\n",
       "    }\n",
       "\n",
       "    .dataframe tbody tr th {\n",
       "        vertical-align: top;\n",
       "    }\n",
       "\n",
       "    .dataframe thead th {\n",
       "        text-align: right;\n",
       "    }\n",
       "</style>\n",
       "<table border=\"1\" class=\"dataframe\">\n",
       "  <thead>\n",
       "    <tr style=\"text-align: right;\">\n",
       "      <th></th>\n",
       "      <th>mfkk0</th>\n",
       "      <th>mfkk1</th>\n",
       "      <th>mfkk2</th>\n",
       "      <th>mfkk3</th>\n",
       "      <th>mfkk4</th>\n",
       "      <th>mfkk5</th>\n",
       "      <th>mfkk6</th>\n",
       "      <th>mfkk7</th>\n",
       "      <th>mfkk8</th>\n",
       "      <th>mfkk9</th>\n",
       "      <th>...</th>\n",
       "      <th>mfkk16</th>\n",
       "      <th>mfkk17</th>\n",
       "      <th>mfkk18</th>\n",
       "      <th>mfkk19</th>\n",
       "      <th>zero</th>\n",
       "      <th>centroid</th>\n",
       "      <th>rolloff</th>\n",
       "      <th>chroma</th>\n",
       "      <th>outcome</th>\n",
       "      <th>file</th>\n",
       "    </tr>\n",
       "  </thead>\n",
       "  <tbody>\n",
       "    <tr>\n",
       "      <th>0</th>\n",
       "      <td>-504.037964</td>\n",
       "      <td>76.997124</td>\n",
       "      <td>-1.585262</td>\n",
       "      <td>34.563675</td>\n",
       "      <td>0.663375</td>\n",
       "      <td>23.808498</td>\n",
       "      <td>-3.102399</td>\n",
       "      <td>16.335907</td>\n",
       "      <td>-6.465252</td>\n",
       "      <td>11.320951</td>\n",
       "      <td>...</td>\n",
       "      <td>-9.759557</td>\n",
       "      <td>-1.204180</td>\n",
       "      <td>-8.794813</td>\n",
       "      <td>-2.499642</td>\n",
       "      <td>22856</td>\n",
       "      <td>2543.690892</td>\n",
       "      <td>5384.696452</td>\n",
       "      <td>0.671670</td>\n",
       "      <td>normal</td>\n",
       "      <td>normal__201101070538.wav</td>\n",
       "    </tr>\n",
       "    <tr>\n",
       "      <th>1</th>\n",
       "      <td>-369.186737</td>\n",
       "      <td>91.602287</td>\n",
       "      <td>8.740099</td>\n",
       "      <td>45.028103</td>\n",
       "      <td>21.458740</td>\n",
       "      <td>27.615288</td>\n",
       "      <td>17.346260</td>\n",
       "      <td>19.143579</td>\n",
       "      <td>14.277477</td>\n",
       "      <td>20.668922</td>\n",
       "      <td>...</td>\n",
       "      <td>6.130361</td>\n",
       "      <td>5.795323</td>\n",
       "      <td>4.890224</td>\n",
       "      <td>3.060663</td>\n",
       "      <td>1486</td>\n",
       "      <td>900.728824</td>\n",
       "      <td>2140.559896</td>\n",
       "      <td>0.750158</td>\n",
       "      <td>normal</td>\n",
       "      <td>normal__201101151127.wav</td>\n",
       "    </tr>\n",
       "    <tr>\n",
       "      <th>2</th>\n",
       "      <td>-379.535004</td>\n",
       "      <td>118.246223</td>\n",
       "      <td>8.529406</td>\n",
       "      <td>19.718822</td>\n",
       "      <td>-3.027937</td>\n",
       "      <td>20.717892</td>\n",
       "      <td>0.050543</td>\n",
       "      <td>13.745317</td>\n",
       "      <td>-3.446706</td>\n",
       "      <td>18.079884</td>\n",
       "      <td>...</td>\n",
       "      <td>-11.210546</td>\n",
       "      <td>5.854636</td>\n",
       "      <td>-9.596210</td>\n",
       "      <td>7.771472</td>\n",
       "      <td>10657</td>\n",
       "      <td>1927.470131</td>\n",
       "      <td>4725.541178</td>\n",
       "      <td>0.635878</td>\n",
       "      <td>normal</td>\n",
       "      <td>normal__201102081152.wav</td>\n",
       "    </tr>\n",
       "    <tr>\n",
       "      <th>3</th>\n",
       "      <td>-342.682220</td>\n",
       "      <td>133.837189</td>\n",
       "      <td>-11.243760</td>\n",
       "      <td>21.353346</td>\n",
       "      <td>-0.145609</td>\n",
       "      <td>29.179508</td>\n",
       "      <td>-5.019008</td>\n",
       "      <td>13.736671</td>\n",
       "      <td>-3.991349</td>\n",
       "      <td>15.423250</td>\n",
       "      <td>...</td>\n",
       "      <td>-1.418862</td>\n",
       "      <td>6.903131</td>\n",
       "      <td>-1.007653</td>\n",
       "      <td>1.195708</td>\n",
       "      <td>7681</td>\n",
       "      <td>1503.253101</td>\n",
       "      <td>3166.028849</td>\n",
       "      <td>0.637516</td>\n",
       "      <td>normal</td>\n",
       "      <td>normal__201102081321.wav</td>\n",
       "    </tr>\n",
       "    <tr>\n",
       "      <th>4</th>\n",
       "      <td>-549.604980</td>\n",
       "      <td>73.100746</td>\n",
       "      <td>-1.697143</td>\n",
       "      <td>28.962112</td>\n",
       "      <td>-0.544705</td>\n",
       "      <td>18.543928</td>\n",
       "      <td>-1.803224</td>\n",
       "      <td>15.123065</td>\n",
       "      <td>-6.083784</td>\n",
       "      <td>9.622066</td>\n",
       "      <td>...</td>\n",
       "      <td>-8.850921</td>\n",
       "      <td>-0.998493</td>\n",
       "      <td>-7.304602</td>\n",
       "      <td>-1.575300</td>\n",
       "      <td>25069</td>\n",
       "      <td>2680.044197</td>\n",
       "      <td>5603.118896</td>\n",
       "      <td>0.677684</td>\n",
       "      <td>normal</td>\n",
       "      <td>normal__201102201230.wav</td>\n",
       "    </tr>\n",
       "  </tbody>\n",
       "</table>\n",
       "<p>5 rows × 26 columns</p>\n",
       "</div>"
      ],
      "text/plain": [
       "        mfkk0       mfkk1      mfkk2      mfkk3      mfkk4      mfkk5  \\\n",
       "0 -504.037964   76.997124  -1.585262  34.563675   0.663375  23.808498   \n",
       "1 -369.186737   91.602287   8.740099  45.028103  21.458740  27.615288   \n",
       "2 -379.535004  118.246223   8.529406  19.718822  -3.027937  20.717892   \n",
       "3 -342.682220  133.837189 -11.243760  21.353346  -0.145609  29.179508   \n",
       "4 -549.604980   73.100746  -1.697143  28.962112  -0.544705  18.543928   \n",
       "\n",
       "       mfkk6      mfkk7      mfkk8      mfkk9  ...     mfkk16    mfkk17  \\\n",
       "0  -3.102399  16.335907  -6.465252  11.320951  ...  -9.759557 -1.204180   \n",
       "1  17.346260  19.143579  14.277477  20.668922  ...   6.130361  5.795323   \n",
       "2   0.050543  13.745317  -3.446706  18.079884  ... -11.210546  5.854636   \n",
       "3  -5.019008  13.736671  -3.991349  15.423250  ...  -1.418862  6.903131   \n",
       "4  -1.803224  15.123065  -6.083784   9.622066  ...  -8.850921 -0.998493   \n",
       "\n",
       "     mfkk18    mfkk19   zero     centroid      rolloff    chroma  outcome  \\\n",
       "0 -8.794813 -2.499642  22856  2543.690892  5384.696452  0.671670   normal   \n",
       "1  4.890224  3.060663   1486   900.728824  2140.559896  0.750158   normal   \n",
       "2 -9.596210  7.771472  10657  1927.470131  4725.541178  0.635878   normal   \n",
       "3 -1.007653  1.195708   7681  1503.253101  3166.028849  0.637516   normal   \n",
       "4 -7.304602 -1.575300  25069  2680.044197  5603.118896  0.677684   normal   \n",
       "\n",
       "                       file  \n",
       "0  normal__201101070538.wav  \n",
       "1  normal__201101151127.wav  \n",
       "2  normal__201102081152.wav  \n",
       "3  normal__201102081321.wav  \n",
       "4  normal__201102201230.wav  \n",
       "\n",
       "[5 rows x 26 columns]"
      ]
     },
     "execution_count": 5,
     "metadata": {},
     "output_type": "execute_result"
    }
   ],
   "source": [
    "print(feature_df.shape)\n",
    "feature_df.head()"
   ]
  },
  {
   "cell_type": "code",
   "execution_count": 6,
   "metadata": {},
   "outputs": [
    {
     "data": {
      "text/plain": [
       "normal      351\n",
       "murmur      129\n",
       "artifact     40\n",
       "Name: outcome, dtype: int64"
      ]
     },
     "execution_count": 6,
     "metadata": {},
     "output_type": "execute_result"
    }
   ],
   "source": [
    "feature_df[\"outcome\"].value_counts()"
   ]
  },
  {
   "cell_type": "code",
   "execution_count": 7,
   "metadata": {
    "scrolled": true
   },
   "outputs": [
    {
     "data": {
      "text/html": [
       "<div>\n",
       "<style scoped>\n",
       "    .dataframe tbody tr th:only-of-type {\n",
       "        vertical-align: middle;\n",
       "    }\n",
       "\n",
       "    .dataframe tbody tr th {\n",
       "        vertical-align: top;\n",
       "    }\n",
       "\n",
       "    .dataframe thead th {\n",
       "        text-align: right;\n",
       "    }\n",
       "</style>\n",
       "<table border=\"1\" class=\"dataframe\">\n",
       "  <thead>\n",
       "    <tr style=\"text-align: right;\">\n",
       "      <th></th>\n",
       "      <th>mfkk0</th>\n",
       "      <th>mfkk1</th>\n",
       "      <th>mfkk2</th>\n",
       "      <th>mfkk3</th>\n",
       "      <th>mfkk4</th>\n",
       "      <th>mfkk5</th>\n",
       "      <th>mfkk6</th>\n",
       "      <th>mfkk7</th>\n",
       "      <th>mfkk8</th>\n",
       "      <th>mfkk9</th>\n",
       "      <th>...</th>\n",
       "      <th>mfkk14</th>\n",
       "      <th>mfkk15</th>\n",
       "      <th>mfkk16</th>\n",
       "      <th>mfkk17</th>\n",
       "      <th>mfkk18</th>\n",
       "      <th>mfkk19</th>\n",
       "      <th>zero</th>\n",
       "      <th>centroid</th>\n",
       "      <th>rolloff</th>\n",
       "      <th>chroma</th>\n",
       "    </tr>\n",
       "  </thead>\n",
       "  <tbody>\n",
       "    <tr>\n",
       "      <th>0</th>\n",
       "      <td>-504.037964</td>\n",
       "      <td>76.997124</td>\n",
       "      <td>-1.585262</td>\n",
       "      <td>34.563675</td>\n",
       "      <td>0.663375</td>\n",
       "      <td>23.808498</td>\n",
       "      <td>-3.102399</td>\n",
       "      <td>16.335907</td>\n",
       "      <td>-6.465252</td>\n",
       "      <td>11.320951</td>\n",
       "      <td>...</td>\n",
       "      <td>-9.941511</td>\n",
       "      <td>0.288859</td>\n",
       "      <td>-9.759557</td>\n",
       "      <td>-1.204180</td>\n",
       "      <td>-8.794813</td>\n",
       "      <td>-2.499642</td>\n",
       "      <td>22856</td>\n",
       "      <td>2543.690892</td>\n",
       "      <td>5384.696452</td>\n",
       "      <td>0.671670</td>\n",
       "    </tr>\n",
       "    <tr>\n",
       "      <th>1</th>\n",
       "      <td>-369.186737</td>\n",
       "      <td>91.602287</td>\n",
       "      <td>8.740099</td>\n",
       "      <td>45.028103</td>\n",
       "      <td>21.458740</td>\n",
       "      <td>27.615288</td>\n",
       "      <td>17.346260</td>\n",
       "      <td>19.143579</td>\n",
       "      <td>14.277477</td>\n",
       "      <td>20.668922</td>\n",
       "      <td>...</td>\n",
       "      <td>10.951165</td>\n",
       "      <td>7.448577</td>\n",
       "      <td>6.130361</td>\n",
       "      <td>5.795323</td>\n",
       "      <td>4.890224</td>\n",
       "      <td>3.060663</td>\n",
       "      <td>1486</td>\n",
       "      <td>900.728824</td>\n",
       "      <td>2140.559896</td>\n",
       "      <td>0.750158</td>\n",
       "    </tr>\n",
       "    <tr>\n",
       "      <th>2</th>\n",
       "      <td>-379.535004</td>\n",
       "      <td>118.246223</td>\n",
       "      <td>8.529406</td>\n",
       "      <td>19.718822</td>\n",
       "      <td>-3.027937</td>\n",
       "      <td>20.717892</td>\n",
       "      <td>0.050543</td>\n",
       "      <td>13.745317</td>\n",
       "      <td>-3.446706</td>\n",
       "      <td>18.079884</td>\n",
       "      <td>...</td>\n",
       "      <td>-7.436246</td>\n",
       "      <td>7.344613</td>\n",
       "      <td>-11.210546</td>\n",
       "      <td>5.854636</td>\n",
       "      <td>-9.596210</td>\n",
       "      <td>7.771472</td>\n",
       "      <td>10657</td>\n",
       "      <td>1927.470131</td>\n",
       "      <td>4725.541178</td>\n",
       "      <td>0.635878</td>\n",
       "    </tr>\n",
       "    <tr>\n",
       "      <th>3</th>\n",
       "      <td>-342.682220</td>\n",
       "      <td>133.837189</td>\n",
       "      <td>-11.243760</td>\n",
       "      <td>21.353346</td>\n",
       "      <td>-0.145609</td>\n",
       "      <td>29.179508</td>\n",
       "      <td>-5.019008</td>\n",
       "      <td>13.736671</td>\n",
       "      <td>-3.991349</td>\n",
       "      <td>15.423250</td>\n",
       "      <td>...</td>\n",
       "      <td>0.412823</td>\n",
       "      <td>5.838560</td>\n",
       "      <td>-1.418862</td>\n",
       "      <td>6.903131</td>\n",
       "      <td>-1.007653</td>\n",
       "      <td>1.195708</td>\n",
       "      <td>7681</td>\n",
       "      <td>1503.253101</td>\n",
       "      <td>3166.028849</td>\n",
       "      <td>0.637516</td>\n",
       "    </tr>\n",
       "    <tr>\n",
       "      <th>4</th>\n",
       "      <td>-549.604980</td>\n",
       "      <td>73.100746</td>\n",
       "      <td>-1.697143</td>\n",
       "      <td>28.962112</td>\n",
       "      <td>-0.544705</td>\n",
       "      <td>18.543928</td>\n",
       "      <td>-1.803224</td>\n",
       "      <td>15.123065</td>\n",
       "      <td>-6.083784</td>\n",
       "      <td>9.622066</td>\n",
       "      <td>...</td>\n",
       "      <td>-10.037402</td>\n",
       "      <td>-0.315625</td>\n",
       "      <td>-8.850921</td>\n",
       "      <td>-0.998493</td>\n",
       "      <td>-7.304602</td>\n",
       "      <td>-1.575300</td>\n",
       "      <td>25069</td>\n",
       "      <td>2680.044197</td>\n",
       "      <td>5603.118896</td>\n",
       "      <td>0.677684</td>\n",
       "    </tr>\n",
       "  </tbody>\n",
       "</table>\n",
       "<p>5 rows × 24 columns</p>\n",
       "</div>"
      ],
      "text/plain": [
       "        mfkk0       mfkk1      mfkk2      mfkk3      mfkk4      mfkk5  \\\n",
       "0 -504.037964   76.997124  -1.585262  34.563675   0.663375  23.808498   \n",
       "1 -369.186737   91.602287   8.740099  45.028103  21.458740  27.615288   \n",
       "2 -379.535004  118.246223   8.529406  19.718822  -3.027937  20.717892   \n",
       "3 -342.682220  133.837189 -11.243760  21.353346  -0.145609  29.179508   \n",
       "4 -549.604980   73.100746  -1.697143  28.962112  -0.544705  18.543928   \n",
       "\n",
       "       mfkk6      mfkk7      mfkk8      mfkk9  ...     mfkk14    mfkk15  \\\n",
       "0  -3.102399  16.335907  -6.465252  11.320951  ...  -9.941511  0.288859   \n",
       "1  17.346260  19.143579  14.277477  20.668922  ...  10.951165  7.448577   \n",
       "2   0.050543  13.745317  -3.446706  18.079884  ...  -7.436246  7.344613   \n",
       "3  -5.019008  13.736671  -3.991349  15.423250  ...   0.412823  5.838560   \n",
       "4  -1.803224  15.123065  -6.083784   9.622066  ... -10.037402 -0.315625   \n",
       "\n",
       "      mfkk16    mfkk17    mfkk18    mfkk19   zero     centroid      rolloff  \\\n",
       "0  -9.759557 -1.204180 -8.794813 -2.499642  22856  2543.690892  5384.696452   \n",
       "1   6.130361  5.795323  4.890224  3.060663   1486   900.728824  2140.559896   \n",
       "2 -11.210546  5.854636 -9.596210  7.771472  10657  1927.470131  4725.541178   \n",
       "3  -1.418862  6.903131 -1.007653  1.195708   7681  1503.253101  3166.028849   \n",
       "4  -8.850921 -0.998493 -7.304602 -1.575300  25069  2680.044197  5603.118896   \n",
       "\n",
       "     chroma  \n",
       "0  0.671670  \n",
       "1  0.750158  \n",
       "2  0.635878  \n",
       "3  0.637516  \n",
       "4  0.677684  \n",
       "\n",
       "[5 rows x 24 columns]"
      ]
     },
     "execution_count": 7,
     "metadata": {},
     "output_type": "execute_result"
    }
   ],
   "source": [
    "#Prepping data for training\n",
    "X = feature_df.iloc[:,0:24]\n",
    "X.head()"
   ]
  },
  {
   "cell_type": "code",
   "execution_count": 8,
   "metadata": {},
   "outputs": [
    {
     "data": {
      "text/plain": [
       "0    normal\n",
       "1    normal\n",
       "2    normal\n",
       "3    normal\n",
       "4    normal\n",
       "Name: outcome, dtype: object"
      ]
     },
     "execution_count": 8,
     "metadata": {},
     "output_type": "execute_result"
    }
   ],
   "source": [
    "y=feature_df[\"outcome\"]\n",
    "y.head()"
   ]
  },
  {
   "cell_type": "code",
   "execution_count": 9,
   "metadata": {},
   "outputs": [],
   "source": [
    "from sklearn.preprocessing import LabelEncoder\n",
    "l=LabelEncoder().fit(y)\n",
    "y=l.transform(y)"
   ]
  },
  {
   "cell_type": "code",
   "execution_count": 10,
   "metadata": {},
   "outputs": [
    {
     "name": "stdout",
     "output_type": "stream",
     "text": [
      "X Train: 390\n",
      "X Test: 130\n"
     ]
    }
   ],
   "source": [
    "from sklearn.model_selection import train_test_split,GridSearchCV\n",
    "X_train,X_test,y_train,y_test=train_test_split(X,y,test_size=0.25,random_state=31)\n",
    "print(\"X Train: \",len(X_train),\"\\n\",\"X Test: \",len(X_test),sep=\"\")"
   ]
  },
  {
   "cell_type": "markdown",
   "metadata": {},
   "source": [
    "### Training Model"
   ]
  },
  {
   "cell_type": "code",
   "execution_count": 11,
   "metadata": {},
   "outputs": [
    {
     "data": {
      "text/plain": [
       "RandomForestClassifier(max_depth=8, max_features=5, min_samples_split=5,\n",
       "                       n_estimators=500, random_state=31)"
      ]
     },
     "execution_count": 11,
     "metadata": {},
     "output_type": "execute_result"
    }
   ],
   "source": [
    "from sklearn.ensemble import RandomForestClassifier\n",
    "forest=RandomForestClassifier(max_depth= 8,\n",
    " max_features= 5,\n",
    " min_samples_split=5,\n",
    " n_estimators=500, random_state=31).fit(X_train,y_train)\n",
    "forest"
   ]
  },
  {
   "cell_type": "markdown",
   "metadata": {},
   "source": [
    "### Results"
   ]
  },
  {
   "cell_type": "code",
   "execution_count": 27,
   "metadata": {},
   "outputs": [],
   "source": [
    "def plot_confusion_matrix(cm,\n",
    "                          target_names,\n",
    "                          title='Heart Auscultation Classifications',\n",
    "                          cmap=None,\n",
    "                          normalize=False):\n",
    "  \n",
    "    import matplotlib.pyplot as plt\n",
    "    import numpy as np\n",
    "    import itertools\n",
    "\n",
    "    accuracy = np.trace(cm) / float(np.sum(cm))\n",
    "    misclass = 1 - accuracy\n",
    "\n",
    "    if cmap is None:\n",
    "        cmap = plt.get_cmap('Blues')\n",
    "\n",
    "    plt.figure(figsize=(8, 6))\n",
    "    plt.imshow(cm, interpolation='nearest', cmap=cmap)\n",
    "    plt.title(title)\n",
    "\n",
    "    if target_names is not None:\n",
    "        tick_marks = np.arange(len(target_names))\n",
    "        plt.xticks(tick_marks, target_names, rotation=45)\n",
    "        plt.yticks(tick_marks, target_names)\n",
    "\n",
    "    if normalize:\n",
    "        cm = cm.astype('float') / cm.sum(axis=1)[:, np.newaxis]\n",
    "\n",
    "\n",
    "    thresh = cm.max() / 1.5 if normalize else cm.max() / 2\n",
    "    for i, j in itertools.product(range(cm.shape[0]), range(cm.shape[1])):\n",
    "        if normalize:\n",
    "            plt.text(j, i, \"{:0.4f}\".format(cm[i, j]),\n",
    "                     horizontalalignment=\"center\",\n",
    "                     color=\"white\" if cm[i, j] > thresh else \"black\")\n",
    "        else:\n",
    "            plt.text(j, i, \"{:,}\".format(cm[i, j]),\n",
    "                     horizontalalignment=\"center\",\n",
    "                     color=\"white\" if cm[i, j] > thresh else \"black\")\n",
    "\n",
    "\n",
    "    plt.tight_layout()\n",
    "    plt.ylabel('True label')\n",
    "    plt.xlabel('Predicted label\\naccuracy={:0.4f}; misclass={:0.4f}'.format(accuracy, misclass))\n",
    "    plt.show()"
   ]
  },
  {
   "cell_type": "code",
   "execution_count": 28,
   "metadata": {},
   "outputs": [
    {
     "data": {
      "image/png": "[encoded data removed]",
      "text/plain": [
       "<Figure size 576x432 with 1 Axes>"
      ]
     },
     "metadata": {
      "needs_background": "light"
     },
     "output_type": "display_data"
    }
   ],
   "source": [
    "from sklearn.metrics import confusion_matrix\n",
    "cm = confusion_matrix(y_test, y_pred)\n",
    "labels = feature_df[\"outcome\"].unique()\n",
    "\n",
    "plot_confusion_matrix(cm, labels)"
   ]
  },
  {
   "cell_type": "code",
   "execution_count": 29,
   "metadata": {},
   "outputs": [
    {
     "data": {
      "image/png": "[encoded data removed]",
      "text/plain": [
       "<Figure size 576x432 with 1 Axes>"
      ]
     },
     "metadata": {
      "needs_background": "light"
     },
     "output_type": "display_data"
    }
   ],
   "source": [
    "plot_confusion_matrix(cm, labels, normalize = True)"
   ]
  },
  {
   "cell_type": "code",
   "execution_count": null,
   "metadata": {},
   "outputs": [],
   "source": []
  }
 ],
 "metadata": {
  "kernelspec": {
   "display_name": "heart",
   "language": "python",
   "name": "heart"
  },
  "language_info": {
   "codemirror_mode": {
    "name": "ipython",
    "version": 3
   },
   "file_extension": ".py",
   "mimetype": "text/x-python",
   "name": "python",
   "nbconvert_exporter": "python",
   "pygments_lexer": "ipython3",
   "version": "3.8.2"
  }
 },
 "nbformat": 4,
 "nbformat_minor": 4
}
