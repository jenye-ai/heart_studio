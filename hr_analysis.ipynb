{
 "cells": [
  {
   "cell_type": "markdown",
   "metadata": {},
   "source": [
    "# HeartRate Analyzer\n",
    "\n",
    "- Heartbeat Sounds Source: https://www.kaggle.com/kinguistics/heartbeat-sounds/data?select=set_a_timing.csv\n",
    "- Script takes in .wav files, calculates the number of heartbeats in the audio file\n",
    "- Note - this analyzer has a tendency to overshoot the heartrate\n",
    "- To Do: Play around with distance/threshold for optimum results"
   ]
  },
  {
   "cell_type": "markdown",
   "metadata": {},
   "source": [
    "### Stage 1: Testing/Developing Algorithm\n",
    "- Skip this stage if automation is needed. The code in this stage is useful for debugging, plotting, and confirming the performance of the algorithm."
   ]
  },
  {
   "cell_type": "code",
   "execution_count": 1,
   "metadata": {
    "scrolled": true
   },
   "outputs": [],
   "source": [
    "import matplotlib.pyplot as plt\n",
    "from scipy.io import wavfile\n",
    "from scipy.signal import find_peaks\n",
    "import numpy as np\n",
    "from playsound import playsound\n",
    "\n",
    "# Read the Audio File\n",
    "path = \"set_a\\\\normal__201106111136.wav\"\n",
    "sample_rate, samples = wavfile.read(path)\n",
    "\n",
    "#Play the sound\n",
    "playsound(path)\n",
    "\n",
    "# Get the duration of the audio file \n",
    "time = len(samples)/sample_rate"
   ]
  },
  {
   "cell_type": "code",
   "execution_count": 2,
   "metadata": {
    "scrolled": true
   },
   "outputs": [
    {
     "data": {
      "image/png": "[encoded data removed]",
      "text/plain": [
       "<Figure size 432x288 with 1 Axes>"
      ]
     },
     "metadata": {
      "needs_background": "light"
     },
     "output_type": "display_data"
    }
   ],
   "source": [
    "# Determining Best Parameters\n",
    "peaks, properties = find_peaks(samples, height=0, distance = sample_rate/2)\n",
    "prom = max(properties[\"peak_heights\"])\n",
    "\n",
    "# Find peaks of the sample (heartbeats) and their respective properties\n",
    "peaks, properties = find_peaks(samples, height=0, distance = sample_rate/2,  prominence = prom/3)\n",
    "\n",
    "#Plot the results\n",
    "plt.plot(samples)\n",
    "plt.plot(peaks, samples[peaks], \"x\") #x marks the peaks\n",
    "plt.plot(np.zeros_like(samples), \"--\", color=\"gray\")\n",
    "plt.show()"
   ]
  },
  {
   "cell_type": "code",
   "execution_count": 3,
   "metadata": {},
   "outputs": [
    {
     "data": {
      "text/plain": [
       "84.61281937661887"
      ]
     },
     "execution_count": 3,
     "metadata": {},
     "output_type": "execute_result"
    }
   ],
   "source": [
    "#Calculating BPM\n",
    "bpm = len(peaks)*60/time\n",
    "bpm"
   ]
  },
  {
   "cell_type": "markdown",
   "metadata": {},
   "source": [
    "### Stage Two: Automated BPM Calculator\n",
    "- Calculates bpm for all files in a specified folder an saves as and .xlsx file."
   ]
  },
  {
   "cell_type": "code",
   "execution_count": 4,
   "metadata": {},
   "outputs": [],
   "source": [
    "def hr_analysis(path):\n",
    "    sample_rate, samples = wavfile.read(path)\n",
    "\n",
    "    # Get the duration of the audio file\n",
    "    time = len(samples)/sample_rate\n",
    "    \n",
    "    peaks, properties = find_peaks(samples, height=0, distance = sample_rate/2)\n",
    "    prom = max(properties[\"peak_heights\"])\n",
    "    peaks, properties = find_peaks(samples, height=0, distance = sample_rate/2,  prominence = prom/3)\n",
    "\n",
    "    \n",
    "    bpm = len(peaks)*60/time\n",
    "    return bpm, len(peaks)"
   ]
  },
  {
   "cell_type": "code",
   "execution_count": 5,
   "metadata": {},
   "outputs": [],
   "source": [
    "def heart_df(set_files,col_names,d_list): #Creates tabular data of sound file features for each sound file\n",
    "    files = os.listdir(set_files) \n",
    "    outcome = []\n",
    "    for file in files:\n",
    "       \n",
    "        temp = file.split('__')[0]\n",
    "        outcome.append(temp)\n",
    "    return pd.DataFrame(list(zip(outcome,files)),columns=col_names)\n"
   ]
  },
  {
   "cell_type": "code",
   "execution_count": 6,
   "metadata": {},
   "outputs": [],
   "source": [
    "import os,fnmatch\n",
    "import pandas as pd\n",
    "import librosa\n",
    "import numpy as np\n",
    "music_folders=\"set_a\"\n",
    "\n",
    "col_names =[\"outcome\",\"file\"]\n",
    "    \n",
    "outcomes=[\"normal\",\"artifact\",\"murmur\"] \n",
    "\n",
    "feature_df= heart_df(music_folders,col_names,outcomes)"
   ]
  },
  {
   "cell_type": "code",
   "execution_count": 7,
   "metadata": {},
   "outputs": [
    {
     "data": {
      "text/html": [
       "<div>\n",
       "<style scoped>\n",
       "    .dataframe tbody tr th:only-of-type {\n",
       "        vertical-align: middle;\n",
       "    }\n",
       "\n",
       "    .dataframe tbody tr th {\n",
       "        vertical-align: top;\n",
       "    }\n",
       "\n",
       "    .dataframe thead th {\n",
       "        text-align: right;\n",
       "    }\n",
       "</style>\n",
       "<table border=\"1\" class=\"dataframe\">\n",
       "  <thead>\n",
       "    <tr style=\"text-align: right;\">\n",
       "      <th></th>\n",
       "      <th>outcome</th>\n",
       "      <th>file</th>\n",
       "    </tr>\n",
       "  </thead>\n",
       "  <tbody>\n",
       "    <tr>\n",
       "      <th>0</th>\n",
       "      <td>artifact</td>\n",
       "      <td>artifact__201012172012.wav</td>\n",
       "    </tr>\n",
       "    <tr>\n",
       "      <th>1</th>\n",
       "      <td>artifact</td>\n",
       "      <td>artifact__201105040918.wav</td>\n",
       "    </tr>\n",
       "    <tr>\n",
       "      <th>2</th>\n",
       "      <td>artifact</td>\n",
       "      <td>artifact__201105041959.wav</td>\n",
       "    </tr>\n",
       "    <tr>\n",
       "      <th>3</th>\n",
       "      <td>artifact</td>\n",
       "      <td>artifact__201105051017.wav</td>\n",
       "    </tr>\n",
       "    <tr>\n",
       "      <th>4</th>\n",
       "      <td>artifact</td>\n",
       "      <td>artifact__201105060108.wav</td>\n",
       "    </tr>\n",
       "    <tr>\n",
       "      <th>...</th>\n",
       "      <td>...</td>\n",
       "      <td>...</td>\n",
       "    </tr>\n",
       "    <tr>\n",
       "      <th>171</th>\n",
       "      <td>normal</td>\n",
       "      <td>normal__201106221450.wav</td>\n",
       "    </tr>\n",
       "    <tr>\n",
       "      <th>172</th>\n",
       "      <td>normal</td>\n",
       "      <td>normal__201108011112.wav</td>\n",
       "    </tr>\n",
       "    <tr>\n",
       "      <th>173</th>\n",
       "      <td>normal</td>\n",
       "      <td>normal__201108011114.wav</td>\n",
       "    </tr>\n",
       "    <tr>\n",
       "      <th>174</th>\n",
       "      <td>normal</td>\n",
       "      <td>normal__201108011115.wav</td>\n",
       "    </tr>\n",
       "    <tr>\n",
       "      <th>175</th>\n",
       "      <td>normal</td>\n",
       "      <td>normal__201108011118.wav</td>\n",
       "    </tr>\n",
       "  </tbody>\n",
       "</table>\n",
       "<p>176 rows × 2 columns</p>\n",
       "</div>"
      ],
      "text/plain": [
       "      outcome                        file\n",
       "0    artifact  artifact__201012172012.wav\n",
       "1    artifact  artifact__201105040918.wav\n",
       "2    artifact  artifact__201105041959.wav\n",
       "3    artifact  artifact__201105051017.wav\n",
       "4    artifact  artifact__201105060108.wav\n",
       "..        ...                         ...\n",
       "171    normal    normal__201106221450.wav\n",
       "172    normal    normal__201108011112.wav\n",
       "173    normal    normal__201108011114.wav\n",
       "174    normal    normal__201108011115.wav\n",
       "175    normal    normal__201108011118.wav\n",
       "\n",
       "[176 rows x 2 columns]"
      ]
     },
     "execution_count": 7,
     "metadata": {},
     "output_type": "execute_result"
    }
   ],
   "source": [
    "feature_df"
   ]
  },
  {
   "cell_type": "code",
   "execution_count": 8,
   "metadata": {},
   "outputs": [],
   "source": [
    "hr = [hr_analysis(str(music_folders + \"\\\\\" + file))[0] for file in os.listdir(music_folders)]\n",
    "peaks = [hr_analysis(str(music_folders + \"\\\\\" + file))[1] for file in os.listdir(music_folders)]"
   ]
  },
  {
   "cell_type": "code",
   "execution_count": 9,
   "metadata": {},
   "outputs": [],
   "source": [
    "feature_df[\"bpm\"]= hr\n",
    "feature_df['beats'] = peaks"
   ]
  },
  {
   "cell_type": "code",
   "execution_count": 10,
   "metadata": {
    "scrolled": true
   },
   "outputs": [
    {
     "data": {
      "text/html": [
       "<div>\n",
       "<style scoped>\n",
       "    .dataframe tbody tr th:only-of-type {\n",
       "        vertical-align: middle;\n",
       "    }\n",
       "\n",
       "    .dataframe tbody tr th {\n",
       "        vertical-align: top;\n",
       "    }\n",
       "\n",
       "    .dataframe thead th {\n",
       "        text-align: right;\n",
       "    }\n",
       "</style>\n",
       "<table border=\"1\" class=\"dataframe\">\n",
       "  <thead>\n",
       "    <tr style=\"text-align: right;\">\n",
       "      <th></th>\n",
       "      <th>outcome</th>\n",
       "      <th>file</th>\n",
       "      <th>bpm</th>\n",
       "      <th>beats</th>\n",
       "    </tr>\n",
       "  </thead>\n",
       "  <tbody>\n",
       "    <tr>\n",
       "      <th>0</th>\n",
       "      <td>artifact</td>\n",
       "      <td>artifact__201012172012.wav</td>\n",
       "      <td>13.333333</td>\n",
       "      <td>2</td>\n",
       "    </tr>\n",
       "    <tr>\n",
       "      <th>1</th>\n",
       "      <td>artifact</td>\n",
       "      <td>artifact__201105040918.wav</td>\n",
       "      <td>26.666667</td>\n",
       "      <td>4</td>\n",
       "    </tr>\n",
       "    <tr>\n",
       "      <th>2</th>\n",
       "      <td>artifact</td>\n",
       "      <td>artifact__201105041959.wav</td>\n",
       "      <td>46.666667</td>\n",
       "      <td>7</td>\n",
       "    </tr>\n",
       "    <tr>\n",
       "      <th>3</th>\n",
       "      <td>artifact</td>\n",
       "      <td>artifact__201105051017.wav</td>\n",
       "      <td>26.666667</td>\n",
       "      <td>4</td>\n",
       "    </tr>\n",
       "    <tr>\n",
       "      <th>4</th>\n",
       "      <td>artifact</td>\n",
       "      <td>artifact__201105060108.wav</td>\n",
       "      <td>33.333333</td>\n",
       "      <td>5</td>\n",
       "    </tr>\n",
       "    <tr>\n",
       "      <th>...</th>\n",
       "      <td>...</td>\n",
       "      <td>...</td>\n",
       "      <td>...</td>\n",
       "      <td>...</td>\n",
       "    </tr>\n",
       "    <tr>\n",
       "      <th>171</th>\n",
       "      <td>normal</td>\n",
       "      <td>normal__201106221450.wav</td>\n",
       "      <td>73.333333</td>\n",
       "      <td>11</td>\n",
       "    </tr>\n",
       "    <tr>\n",
       "      <th>172</th>\n",
       "      <td>normal</td>\n",
       "      <td>normal__201108011112.wav</td>\n",
       "      <td>68.048166</td>\n",
       "      <td>9</td>\n",
       "    </tr>\n",
       "    <tr>\n",
       "      <th>173</th>\n",
       "      <td>normal</td>\n",
       "      <td>normal__201108011114.wav</td>\n",
       "      <td>60.487258</td>\n",
       "      <td>8</td>\n",
       "    </tr>\n",
       "    <tr>\n",
       "      <th>174</th>\n",
       "      <td>normal</td>\n",
       "      <td>normal__201108011115.wav</td>\n",
       "      <td>83.169980</td>\n",
       "      <td>11</td>\n",
       "    </tr>\n",
       "    <tr>\n",
       "      <th>175</th>\n",
       "      <td>normal</td>\n",
       "      <td>normal__201108011118.wav</td>\n",
       "      <td>90.730888</td>\n",
       "      <td>12</td>\n",
       "    </tr>\n",
       "  </tbody>\n",
       "</table>\n",
       "<p>176 rows × 4 columns</p>\n",
       "</div>"
      ],
      "text/plain": [
       "      outcome                        file        bpm  beats\n",
       "0    artifact  artifact__201012172012.wav  13.333333      2\n",
       "1    artifact  artifact__201105040918.wav  26.666667      4\n",
       "2    artifact  artifact__201105041959.wav  46.666667      7\n",
       "3    artifact  artifact__201105051017.wav  26.666667      4\n",
       "4    artifact  artifact__201105060108.wav  33.333333      5\n",
       "..        ...                         ...        ...    ...\n",
       "171    normal    normal__201106221450.wav  73.333333     11\n",
       "172    normal    normal__201108011112.wav  68.048166      9\n",
       "173    normal    normal__201108011114.wav  60.487258      8\n",
       "174    normal    normal__201108011115.wav  83.169980     11\n",
       "175    normal    normal__201108011118.wav  90.730888     12\n",
       "\n",
       "[176 rows x 4 columns]"
      ]
     },
     "execution_count": 10,
     "metadata": {},
     "output_type": "execute_result"
    }
   ],
   "source": [
    "feature_df"
   ]
  },
  {
   "cell_type": "code",
   "execution_count": 11,
   "metadata": {},
   "outputs": [],
   "source": [
    "feature_df.to_excel(\"bpm.xlsx\")  "
   ]
  },
  {
   "cell_type": "code",
   "execution_count": null,
   "metadata": {},
   "outputs": [],
   "source": []
  }
 ],
 "metadata": {
  "kernelspec": {
   "display_name": "heart",
   "language": "python",
   "name": "heart"
  },
  "language_info": {
   "codemirror_mode": {
    "name": "ipython",
    "version": 3
   },
   "file_extension": ".py",
   "mimetype": "text/x-python",
   "name": "python",
   "nbconvert_exporter": "python",
   "pygments_lexer": "ipython3",
   "version": "3.8.2"
  }
 },
 "nbformat": 4,
 "nbformat_minor": 4
}
